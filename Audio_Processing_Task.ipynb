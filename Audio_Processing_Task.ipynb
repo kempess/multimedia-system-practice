{
  "nbformat": 4,
  "nbformat_minor": 0,
  "metadata": {
    "colab": {
      "private_outputs": true,
      "provenance": [],
      "collapsed_sections": [
        "iZutQRBUi9jU",
        "tkVLWnJDmqRQ"
      ]
    },
    "kernelspec": {
      "name": "python3",
      "display_name": "Python 3"
    },
    "language_info": {
      "name": "python"
    },
    "gpuClass": "standard"
  },
  "cells": [
    {
      "cell_type": "markdown",
      "source": [
        "# Tugas Membuat Podcast (Audio Processing) "
      ],
      "metadata": {
        "id": "iZutQRBUi9jU"
      }
    },
    {
      "cell_type": "markdown",
      "source": [
        "**Soal : Buatlah podcast minimal 3 menit**\n",
        "* bertema tentang teknologi, yang terdiri dari minimal 4 video (3 audio \n",
        "narasi, 1 audio background).\n",
        "* File dibuat menggunakan bahasa python. \n",
        "* di upload url google colab hasil pembuatan video\n",
        "\n",
        "Jawab :\n"
      ],
      "metadata": {
        "id": "Jhkof0QjjQiB"
      }
    },
    {
      "cell_type": "markdown",
      "source": [
        "**Instalasi Package**"
      ],
      "metadata": {
        "id": "Bvk8rsSZl2eQ"
      }
    },
    {
      "cell_type": "code",
      "source": [
        "!pip install librosa\n",
        "!pip install soundfile\n",
        "!pip install pydub\n",
        "!pip install gtts\n",
        "!apt install ffmpeg"
      ],
      "metadata": {
        "id": "R6USyhQQjYIu"
      },
      "execution_count": null,
      "outputs": []
    },
    {
      "cell_type": "markdown",
      "source": [
        "**Dependencies**"
      ],
      "metadata": {
        "id": "e9LL0pbSkI4Z"
      }
    },
    {
      "cell_type": "code",
      "source": [
        "import librosa\n",
        "import soundfile as sf\n",
        "from IPython.display import Audio\n",
        "from IPython.display import display\n",
        "import matplotlib.pyplot as plt\n",
        "import numpy as np\n",
        "from pydub import AudioSegment"
      ],
      "metadata": {
        "id": "7rnPHw8-kEkJ"
      },
      "execution_count": null,
      "outputs": []
    },
    {
      "cell_type": "markdown",
      "source": [
        "# Visualisasi Frequency Spectogram"
      ],
      "metadata": {
        "id": "tkVLWnJDmqRQ"
      }
    },
    {
      "cell_type": "code",
      "source": [
        "def tampilkan_frequency_power_spectogram(y, sr, title):  \n",
        "  fig, ax = plt.subplots(nrows=2, ncols=1, sharex=True)\n",
        "\n",
        "  D = librosa.amplitude_to_db(np.abs(librosa.stft(y)), ref=np.max)\n",
        "  img = librosa.display.specshow(D, y_axis='linear', x_axis='time', sr=sr, ax=ax[0])\n",
        "  ax[0].set(title=\"Linear-frequency power spect.: {}\".format(title))\n",
        "  ax[0].label_outer()\n",
        "  hop_length = 1024\n",
        "\n",
        "  D = librosa.amplitude_to_db(np.abs(librosa.stft(y, hop_length=hop_length)), ref=np.max)\n",
        "  librosa.display.specshow(D, y_axis='log', sr=sr, hop_length=hop_length, x_axis='time', ax=ax[1])\n",
        "  ax[1].set(title=\"Log-frequency power spect.: {}\".format(title))\n",
        "  ax[1].label_outer()\n",
        "\n",
        "  fig.colorbar(img, ax=ax, format=\"%+2.f dB\")\n",
        "\n",
        "def tampilkan_waveplot(y, sr, title):\n",
        "  plt.figure(figsize=(10, 3))\n",
        "  plt.title(\"Waveplot: {}\".format(title))\n",
        "  librosa.display.waveshow(y, sr=sr)"
      ],
      "metadata": {
        "id": "T9TRBsMSmnuq"
      },
      "execution_count": null,
      "outputs": []
    },
    {
      "cell_type": "code",
      "source": [
        "!wget -q https://github.com/Naufalzaki05/Praktikum-Sistem-Multimedia/blob/main/Source/Audio/podcast_1__enhanced_.mp3?raw=true -O podcast_1.mp3\n",
        "!wget -q https://github.com/Naufalzaki05/Praktikum-Sistem-Multimedia/blob/main/Source/Audio/podcast_2__enhanced_.mp3?raw=true -O podcast_2.mp3\n",
        "!wget -q https://github.com/Naufalzaki05/Praktikum-Sistem-Multimedia/blob/main/Source/Audio/podcast_3__enhanced_.mp3?raw=true -O podcast_3.mp3\n",
        "!wget -q https://github.com/Naufalzaki05/Praktikum-Sistem-Multimedia/blob/main/Source/Audio/BACKSOUND_PODCAST_No_Copyright.mp3?raw=true -O backsound_podcast.mp3\n",
        "!ls -l --block-size=K"
      ],
      "metadata": {
        "id": "Is5SSuuTdgcj"
      },
      "execution_count": null,
      "outputs": []
    },
    {
      "cell_type": "code",
      "source": [
        "file_podcast1_mp3 = 'podcast_1.mp3'\n",
        "file_podcast2_mp3 = 'podcast_2.mp3'\n",
        "file_podcast3_mp3 = 'podcast_3.mp3'\n",
        "file_backsound_mp3 = 'backsound_podcast.mp3'\n",
        "\n",
        "# Menjalankan dan menampilkan audio player file podcast 1\n",
        "print(\"Podcast Bagian 1\")\n",
        "play_suara = Audio(file_podcast1_mp3, autoplay=False)\n",
        "display(play_suara)\n",
        "\n",
        "y, sr = librosa.load(file_podcast1_mp3)\n",
        "tampilkan_waveplot(y, sr, \"Podcast\")\n",
        "tampilkan_frequency_power_spectogram(y, sr, \"Podcast Bagian 1\")\n",
        "\n",
        "# Menjalankan dan menampilkan audio player file podcast 2\n",
        "print(\"Podcast Bagian 2\")\n",
        "play_suara = Audio(file_podcast2_mp3, autoplay=False)\n",
        "display(play_suara)\n",
        "\n",
        "y, sr = librosa.load(file_podcast2_mp3)\n",
        "tampilkan_waveplot(y, sr, \"Podcast Bagian 2\")\n",
        "tampilkan_frequency_power_spectogram(y, sr, \"Podcast Bagian 2\")\n",
        "\n",
        "# Menjalankan dan menampilkan audio player file podcast 3\n",
        "print(\"Podcast Bagian 3\")\n",
        "play_suara = Audio(file_podcast3_mp3, autoplay=False)\n",
        "display(play_suara)\n",
        "\n",
        "y, sr = librosa.load(file_podcast3_mp3)\n",
        "tampilkan_waveplot(y, sr, \"Podcast Bagian 3\")\n",
        "tampilkan_frequency_power_spectogram(y, sr, \"Podcast Bagian 3\")\n",
        "\n",
        "\n",
        "# Menjalankan dan menampilkan audio player backsound\n",
        "print(\"Backsound : Tutorial\")\n",
        "play_suara = Audio(file_backsound_mp3, autoplay=False)\n",
        "display(play_suara)\n",
        "\n",
        "y, sr = librosa.load(file_backsound_mp3)\n",
        "tampilkan_frequency_power_spectogram(y, sr, \"Backsound \")"
      ],
      "metadata": {
        "id": "HuTefuaJvAKI"
      },
      "execution_count": null,
      "outputs": []
    },
    {
      "cell_type": "code",
      "source": [
        "# Load the songs\n",
        "song1 = AudioSegment.from_file(file_podcast1_mp3, format=\"mp3\")\n",
        "song2 = AudioSegment.from_file(file_podcast2_mp3, format=\"mp3\")\n",
        "song3 = AudioSegment.from_file(file_podcast3_mp3, format=\"mp3\")\n",
        "# Load the background music\n",
        "backsound_music = AudioSegment.from_file(file_backsound_mp3, format=\"mp3\")\n",
        "# Combine the songs\n",
        "combined_song = song1 + song2 + song3\n",
        "# Adjust the volume of the background music\n",
        "backsound_music = backsound_music - 12  # Mengurangi volume lagu latar sebanyak 12 dB\n",
        "# Final song\n",
        "final_song = (combined_song).overlay(backsound_music)\n",
        "# Export the final song\n",
        "final_song.export(\"Podcast_Saddam.mp3\", format=\"mp3\")\n",
        "\n",
        "# Play the final song\n",
        "final_song.export(\"Podcast_Saddam.wav\", format=\"wav\")"
      ],
      "metadata": {
        "id": "htzQlL6YBNRF"
      },
      "execution_count": null,
      "outputs": []
    }
  ]
}